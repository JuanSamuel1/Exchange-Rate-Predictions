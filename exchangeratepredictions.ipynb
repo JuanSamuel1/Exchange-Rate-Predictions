{
  "nbformat": 4,
  "nbformat_minor": 0,
  "metadata": {
    "colab": {
      "name": "exchangeratepredictions.ipynb",
      "provenance": [],
      "collapsed_sections": [],
      "include_colab_link": true
    },
    "kernelspec": {
      "name": "python3",
      "display_name": "Python 3"
    }
  },
  "cells": [
    {
      "cell_type": "markdown",
      "metadata": {
        "id": "view-in-github",
        "colab_type": "text"
      },
      "source": [
        "<a href=\"https://colab.research.google.com/github/JuanSamuel1/Exchange-Rate-Predictions/blob/main/exchangeratepredictions.ipynb\" target=\"_parent\"><img src=\"https://colab.research.google.com/assets/colab-badge.svg\" alt=\"Open In Colab\"/></a>"
      ]
    },
    {
      "cell_type": "markdown",
      "metadata": {
        "id": "2BClzmICxgHT"
      },
      "source": [
        "Importing Library"
      ]
    },
    {
      "cell_type": "code",
      "metadata": {
        "id": "m20kPgliw71J"
      },
      "source": [
        "import pandas as pd\r\n",
        "import numpy as np\r\n",
        "import io\r\n",
        "import seaborn as sns\r\n",
        "import matplotlib.pyplot as plt\r\n",
        "import sklearn\r\n",
        "from sklearn.preprocessing import PolynomialFeatures\r\n",
        "from sklearn.model_selection import train_test_split\r\n",
        "from sklearn.linear_model import LinearRegression\r\n",
        "from sklearn.metrics import mean_squared_error , r2_score"
      ],
      "execution_count": null,
      "outputs": []
    },
    {
      "cell_type": "markdown",
      "metadata": {
        "id": "DpmcCzPMxskH"
      },
      "source": [
        "Loading Data"
      ]
    },
    {
      "cell_type": "code",
      "metadata": {
        "colab": {
          "resources": {
            "http://localhost:8080/nbextensions/google.colab/files.js": {
              "data": "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",
              "ok": true,
              "headers": [
                [
                  "content-type",
                  "application/javascript"
                ]
              ],
              "status": 200,
              "status_text": ""
            }
          },
          "base_uri": "https://localhost:8080/",
          "height": 73
        },
        "id": "aOGBjcohxkjl",
        "outputId": "58042b9a-4fd2-428a-ae2e-e2294022a3bd"
      },
      "source": [
        "from google.colab import files\r\n",
        "uploaded = files.upload()\r\n",
        "data= pd.read_csv(io.BytesIO(uploaded['sg_exchange_rate.csv']),parse_dates=['month'])"
      ],
      "execution_count": null,
      "outputs": [
        {
          "output_type": "display_data",
          "data": {
            "text/html": [
              "\n",
              "     <input type=\"file\" id=\"files-a964bbfa-44d3-4caf-afbc-5ec79eeb4b92\" name=\"files[]\" multiple disabled\n",
              "        style=\"border:none\" />\n",
              "     <output id=\"result-a964bbfa-44d3-4caf-afbc-5ec79eeb4b92\">\n",
              "      Upload widget is only available when the cell has been executed in the\n",
              "      current browser session. Please rerun this cell to enable.\n",
              "      </output>\n",
              "      <script src=\"/nbextensions/google.colab/files.js\"></script> "
            ],
            "text/plain": [
              "<IPython.core.display.HTML object>"
            ]
          },
          "metadata": {
            "tags": []
          }
        },
        {
          "output_type": "stream",
          "text": [
            "Saving sg_exchange_rate.csv to sg_exchange_rate (9).csv\n"
          ],
          "name": "stdout"
        }
      ]
    },
    {
      "cell_type": "markdown",
      "metadata": {
        "id": "IbQsMzCby0F6"
      },
      "source": [
        "Test Data"
      ]
    },
    {
      "cell_type": "code",
      "metadata": {
        "colab": {
          "base_uri": "https://localhost:8080/",
          "height": 233
        },
        "id": "_cTxvkdPyy96",
        "outputId": "0e0bd8e3-462a-4ea4-cc7d-1a99bf4042e8"
      },
      "source": [
        "data.head(5)"
      ],
      "execution_count": null,
      "outputs": [
        {
          "output_type": "execute_result",
          "data": {
            "text/html": [
              "<div>\n",
              "<style scoped>\n",
              "    .dataframe tbody tr th:only-of-type {\n",
              "        vertical-align: middle;\n",
              "    }\n",
              "\n",
              "    .dataframe tbody tr th {\n",
              "        vertical-align: top;\n",
              "    }\n",
              "\n",
              "    .dataframe thead th {\n",
              "        text-align: right;\n",
              "    }\n",
              "</style>\n",
              "<table border=\"1\" class=\"dataframe\">\n",
              "  <thead>\n",
              "    <tr style=\"text-align: right;\">\n",
              "      <th></th>\n",
              "      <th>currency</th>\n",
              "      <th>exchange_rate</th>\n",
              "      <th>description</th>\n",
              "    </tr>\n",
              "    <tr>\n",
              "      <th>month</th>\n",
              "      <th></th>\n",
              "      <th></th>\n",
              "      <th></th>\n",
              "    </tr>\n",
              "  </thead>\n",
              "  <tbody>\n",
              "    <tr>\n",
              "      <th>1988-01-01</th>\n",
              "      <td>US Dollar</td>\n",
              "      <td>2.0253</td>\n",
              "      <td>Singapore Dollar Per US Dollar</td>\n",
              "    </tr>\n",
              "    <tr>\n",
              "      <th>1988-02-01</th>\n",
              "      <td>US Dollar</td>\n",
              "      <td>2.0173</td>\n",
              "      <td>Singapore Dollar Per US Dollar</td>\n",
              "    </tr>\n",
              "    <tr>\n",
              "      <th>1988-03-01</th>\n",
              "      <td>US Dollar</td>\n",
              "      <td>2.0133</td>\n",
              "      <td>Singapore Dollar Per US Dollar</td>\n",
              "    </tr>\n",
              "    <tr>\n",
              "      <th>1988-04-01</th>\n",
              "      <td>US Dollar</td>\n",
              "      <td>2.0037</td>\n",
              "      <td>Singapore Dollar Per US Dollar</td>\n",
              "    </tr>\n",
              "    <tr>\n",
              "      <th>1988-05-01</th>\n",
              "      <td>US Dollar</td>\n",
              "      <td>2.0098</td>\n",
              "      <td>Singapore Dollar Per US Dollar</td>\n",
              "    </tr>\n",
              "  </tbody>\n",
              "</table>\n",
              "</div>"
            ],
            "text/plain": [
              "             currency exchange_rate                     description\n",
              "month                                                              \n",
              "1988-01-01  US Dollar        2.0253  Singapore Dollar Per US Dollar\n",
              "1988-02-01  US Dollar        2.0173  Singapore Dollar Per US Dollar\n",
              "1988-03-01  US Dollar        2.0133  Singapore Dollar Per US Dollar\n",
              "1988-04-01  US Dollar        2.0037  Singapore Dollar Per US Dollar\n",
              "1988-05-01  US Dollar        2.0098  Singapore Dollar Per US Dollar"
            ]
          },
          "metadata": {
            "tags": []
          },
          "execution_count": 141
        }
      ]
    },
    {
      "cell_type": "markdown",
      "metadata": {
        "id": "UFxjJvOL3HS1"
      },
      "source": [
        "Choosing the US Dollar Currency"
      ]
    },
    {
      "cell_type": "code",
      "metadata": {
        "colab": {
          "base_uri": "https://localhost:8080/",
          "height": 519
        },
        "id": "VPMrNq1h3L3X",
        "outputId": "37c313c7-581d-4124-9adb-f6cbf089410d"
      },
      "source": [
        "us_data= data.loc[data.currency == 'US Dollar']\r\n",
        "us_data['date']= us_data.month.dt.year + (us_data.month.dt.month/12)\r\n",
        "us_data"
      ],
      "execution_count": null,
      "outputs": [
        {
          "output_type": "stream",
          "text": [
            "/usr/local/lib/python3.6/dist-packages/ipykernel_launcher.py:2: SettingWithCopyWarning: \n",
            "A value is trying to be set on a copy of a slice from a DataFrame.\n",
            "Try using .loc[row_indexer,col_indexer] = value instead\n",
            "\n",
            "See the caveats in the documentation: https://pandas.pydata.org/pandas-docs/stable/user_guide/indexing.html#returning-a-view-versus-a-copy\n",
            "  \n"
          ],
          "name": "stderr"
        },
        {
          "output_type": "execute_result",
          "data": {
            "text/html": [
              "<div>\n",
              "<style scoped>\n",
              "    .dataframe tbody tr th:only-of-type {\n",
              "        vertical-align: middle;\n",
              "    }\n",
              "\n",
              "    .dataframe tbody tr th {\n",
              "        vertical-align: top;\n",
              "    }\n",
              "\n",
              "    .dataframe thead th {\n",
              "        text-align: right;\n",
              "    }\n",
              "</style>\n",
              "<table border=\"1\" class=\"dataframe\">\n",
              "  <thead>\n",
              "    <tr style=\"text-align: right;\">\n",
              "      <th></th>\n",
              "      <th>month</th>\n",
              "      <th>currency</th>\n",
              "      <th>exchange_rate</th>\n",
              "      <th>description</th>\n",
              "      <th>date</th>\n",
              "    </tr>\n",
              "  </thead>\n",
              "  <tbody>\n",
              "    <tr>\n",
              "      <th>0</th>\n",
              "      <td>1988-01-01</td>\n",
              "      <td>US Dollar</td>\n",
              "      <td>2.0253</td>\n",
              "      <td>Singapore Dollar Per US Dollar</td>\n",
              "      <td>1988.083333</td>\n",
              "    </tr>\n",
              "    <tr>\n",
              "      <th>1</th>\n",
              "      <td>1988-02-01</td>\n",
              "      <td>US Dollar</td>\n",
              "      <td>2.0173</td>\n",
              "      <td>Singapore Dollar Per US Dollar</td>\n",
              "      <td>1988.166667</td>\n",
              "    </tr>\n",
              "    <tr>\n",
              "      <th>2</th>\n",
              "      <td>1988-03-01</td>\n",
              "      <td>US Dollar</td>\n",
              "      <td>2.0133</td>\n",
              "      <td>Singapore Dollar Per US Dollar</td>\n",
              "      <td>1988.250000</td>\n",
              "    </tr>\n",
              "    <tr>\n",
              "      <th>3</th>\n",
              "      <td>1988-04-01</td>\n",
              "      <td>US Dollar</td>\n",
              "      <td>2.0037</td>\n",
              "      <td>Singapore Dollar Per US Dollar</td>\n",
              "      <td>1988.333333</td>\n",
              "    </tr>\n",
              "    <tr>\n",
              "      <th>4</th>\n",
              "      <td>1988-05-01</td>\n",
              "      <td>US Dollar</td>\n",
              "      <td>2.0098</td>\n",
              "      <td>Singapore Dollar Per US Dollar</td>\n",
              "      <td>1988.416667</td>\n",
              "    </tr>\n",
              "    <tr>\n",
              "      <th>...</th>\n",
              "      <td>...</td>\n",
              "      <td>...</td>\n",
              "      <td>...</td>\n",
              "      <td>...</td>\n",
              "      <td>...</td>\n",
              "    </tr>\n",
              "    <tr>\n",
              "      <th>387</th>\n",
              "      <td>2020-04-01</td>\n",
              "      <td>US Dollar</td>\n",
              "      <td>1.4245</td>\n",
              "      <td>Singapore Dollar Per US Dollar</td>\n",
              "      <td>2020.333333</td>\n",
              "    </tr>\n",
              "    <tr>\n",
              "      <th>388</th>\n",
              "      <td>2020-05-01</td>\n",
              "      <td>US Dollar</td>\n",
              "      <td>1.418</td>\n",
              "      <td>Singapore Dollar Per US Dollar</td>\n",
              "      <td>2020.416667</td>\n",
              "    </tr>\n",
              "    <tr>\n",
              "      <th>389</th>\n",
              "      <td>2020-06-01</td>\n",
              "      <td>US Dollar</td>\n",
              "      <td>1.3941</td>\n",
              "      <td>Singapore Dollar Per US Dollar</td>\n",
              "      <td>2020.500000</td>\n",
              "    </tr>\n",
              "    <tr>\n",
              "      <th>390</th>\n",
              "      <td>2020-07-01</td>\n",
              "      <td>US Dollar</td>\n",
              "      <td>1.3883</td>\n",
              "      <td>Singapore Dollar Per US Dollar</td>\n",
              "      <td>2020.583333</td>\n",
              "    </tr>\n",
              "    <tr>\n",
              "      <th>391</th>\n",
              "      <td>2020-08-01</td>\n",
              "      <td>US Dollar</td>\n",
              "      <td>1.3697</td>\n",
              "      <td>Singapore Dollar Per US Dollar</td>\n",
              "      <td>2020.666667</td>\n",
              "    </tr>\n",
              "  </tbody>\n",
              "</table>\n",
              "<p>392 rows × 5 columns</p>\n",
              "</div>"
            ],
            "text/plain": [
              "         month   currency  ...                     description         date\n",
              "0   1988-01-01  US Dollar  ...  Singapore Dollar Per US Dollar  1988.083333\n",
              "1   1988-02-01  US Dollar  ...  Singapore Dollar Per US Dollar  1988.166667\n",
              "2   1988-03-01  US Dollar  ...  Singapore Dollar Per US Dollar  1988.250000\n",
              "3   1988-04-01  US Dollar  ...  Singapore Dollar Per US Dollar  1988.333333\n",
              "4   1988-05-01  US Dollar  ...  Singapore Dollar Per US Dollar  1988.416667\n",
              "..         ...        ...  ...                             ...          ...\n",
              "387 2020-04-01  US Dollar  ...  Singapore Dollar Per US Dollar  2020.333333\n",
              "388 2020-05-01  US Dollar  ...  Singapore Dollar Per US Dollar  2020.416667\n",
              "389 2020-06-01  US Dollar  ...  Singapore Dollar Per US Dollar  2020.500000\n",
              "390 2020-07-01  US Dollar  ...  Singapore Dollar Per US Dollar  2020.583333\n",
              "391 2020-08-01  US Dollar  ...  Singapore Dollar Per US Dollar  2020.666667\n",
              "\n",
              "[392 rows x 5 columns]"
            ]
          },
          "metadata": {
            "tags": []
          },
          "execution_count": 148
        }
      ]
    },
    {
      "cell_type": "code",
      "metadata": {
        "id": "TXDkQwWrhaVE",
        "colab": {
          "base_uri": "https://localhost:8080/",
          "height": 446
        },
        "outputId": "9d3dcd34-c7d0-4634-bebb-9aed3798a1ce"
      },
      "source": [
        "new_us_data = us_data.set_index('month')\r\n",
        "new_us_data"
      ],
      "execution_count": null,
      "outputs": [
        {
          "output_type": "execute_result",
          "data": {
            "text/html": [
              "<div>\n",
              "<style scoped>\n",
              "    .dataframe tbody tr th:only-of-type {\n",
              "        vertical-align: middle;\n",
              "    }\n",
              "\n",
              "    .dataframe tbody tr th {\n",
              "        vertical-align: top;\n",
              "    }\n",
              "\n",
              "    .dataframe thead th {\n",
              "        text-align: right;\n",
              "    }\n",
              "</style>\n",
              "<table border=\"1\" class=\"dataframe\">\n",
              "  <thead>\n",
              "    <tr style=\"text-align: right;\">\n",
              "      <th></th>\n",
              "      <th>currency</th>\n",
              "      <th>exchange_rate</th>\n",
              "      <th>description</th>\n",
              "      <th>date</th>\n",
              "    </tr>\n",
              "    <tr>\n",
              "      <th>month</th>\n",
              "      <th></th>\n",
              "      <th></th>\n",
              "      <th></th>\n",
              "      <th></th>\n",
              "    </tr>\n",
              "  </thead>\n",
              "  <tbody>\n",
              "    <tr>\n",
              "      <th>1988-01-01</th>\n",
              "      <td>US Dollar</td>\n",
              "      <td>2.0253</td>\n",
              "      <td>Singapore Dollar Per US Dollar</td>\n",
              "      <td>1988.083333</td>\n",
              "    </tr>\n",
              "    <tr>\n",
              "      <th>1988-02-01</th>\n",
              "      <td>US Dollar</td>\n",
              "      <td>2.0173</td>\n",
              "      <td>Singapore Dollar Per US Dollar</td>\n",
              "      <td>1988.166667</td>\n",
              "    </tr>\n",
              "    <tr>\n",
              "      <th>1988-03-01</th>\n",
              "      <td>US Dollar</td>\n",
              "      <td>2.0133</td>\n",
              "      <td>Singapore Dollar Per US Dollar</td>\n",
              "      <td>1988.250000</td>\n",
              "    </tr>\n",
              "    <tr>\n",
              "      <th>1988-04-01</th>\n",
              "      <td>US Dollar</td>\n",
              "      <td>2.0037</td>\n",
              "      <td>Singapore Dollar Per US Dollar</td>\n",
              "      <td>1988.333333</td>\n",
              "    </tr>\n",
              "    <tr>\n",
              "      <th>1988-05-01</th>\n",
              "      <td>US Dollar</td>\n",
              "      <td>2.0098</td>\n",
              "      <td>Singapore Dollar Per US Dollar</td>\n",
              "      <td>1988.416667</td>\n",
              "    </tr>\n",
              "    <tr>\n",
              "      <th>...</th>\n",
              "      <td>...</td>\n",
              "      <td>...</td>\n",
              "      <td>...</td>\n",
              "      <td>...</td>\n",
              "    </tr>\n",
              "    <tr>\n",
              "      <th>2020-04-01</th>\n",
              "      <td>US Dollar</td>\n",
              "      <td>1.4245</td>\n",
              "      <td>Singapore Dollar Per US Dollar</td>\n",
              "      <td>2020.333333</td>\n",
              "    </tr>\n",
              "    <tr>\n",
              "      <th>2020-05-01</th>\n",
              "      <td>US Dollar</td>\n",
              "      <td>1.418</td>\n",
              "      <td>Singapore Dollar Per US Dollar</td>\n",
              "      <td>2020.416667</td>\n",
              "    </tr>\n",
              "    <tr>\n",
              "      <th>2020-06-01</th>\n",
              "      <td>US Dollar</td>\n",
              "      <td>1.3941</td>\n",
              "      <td>Singapore Dollar Per US Dollar</td>\n",
              "      <td>2020.500000</td>\n",
              "    </tr>\n",
              "    <tr>\n",
              "      <th>2020-07-01</th>\n",
              "      <td>US Dollar</td>\n",
              "      <td>1.3883</td>\n",
              "      <td>Singapore Dollar Per US Dollar</td>\n",
              "      <td>2020.583333</td>\n",
              "    </tr>\n",
              "    <tr>\n",
              "      <th>2020-08-01</th>\n",
              "      <td>US Dollar</td>\n",
              "      <td>1.3697</td>\n",
              "      <td>Singapore Dollar Per US Dollar</td>\n",
              "      <td>2020.666667</td>\n",
              "    </tr>\n",
              "  </tbody>\n",
              "</table>\n",
              "<p>392 rows × 4 columns</p>\n",
              "</div>"
            ],
            "text/plain": [
              "             currency  ...         date\n",
              "month                  ...             \n",
              "1988-01-01  US Dollar  ...  1988.083333\n",
              "1988-02-01  US Dollar  ...  1988.166667\n",
              "1988-03-01  US Dollar  ...  1988.250000\n",
              "1988-04-01  US Dollar  ...  1988.333333\n",
              "1988-05-01  US Dollar  ...  1988.416667\n",
              "...               ...  ...          ...\n",
              "2020-04-01  US Dollar  ...  2020.333333\n",
              "2020-05-01  US Dollar  ...  2020.416667\n",
              "2020-06-01  US Dollar  ...  2020.500000\n",
              "2020-07-01  US Dollar  ...  2020.583333\n",
              "2020-08-01  US Dollar  ...  2020.666667\n",
              "\n",
              "[392 rows x 4 columns]"
            ]
          },
          "metadata": {
            "tags": []
          },
          "execution_count": 149
        }
      ]
    },
    {
      "cell_type": "markdown",
      "metadata": {
        "id": "APsAUvdN0pYb"
      },
      "source": [
        "Changing data types"
      ]
    },
    {
      "cell_type": "code",
      "metadata": {
        "colab": {
          "base_uri": "https://localhost:8080/"
        },
        "id": "Mjauby3j0rD4",
        "outputId": "a3a2fda8-82cf-44f9-d2ca-f4d70b5000ff"
      },
      "source": [
        "new_us_data.dtypes"
      ],
      "execution_count": null,
      "outputs": [
        {
          "output_type": "execute_result",
          "data": {
            "text/plain": [
              "currency          object\n",
              "exchange_rate     object\n",
              "description       object\n",
              "date             float64\n",
              "dtype: object"
            ]
          },
          "metadata": {
            "tags": []
          },
          "execution_count": 150
        }
      ]
    },
    {
      "cell_type": "code",
      "metadata": {
        "id": "tiuaY1kfI6BA"
      },
      "source": [
        "new_us_data['exchange_rate']= new_us_data.exchange_rate.astype(float)"
      ],
      "execution_count": null,
      "outputs": []
    },
    {
      "cell_type": "markdown",
      "metadata": {
        "id": "aToO1Q4j3tru"
      },
      "source": [
        "Plotting"
      ]
    },
    {
      "cell_type": "code",
      "metadata": {
        "id": "CboXFG5j3uzm",
        "colab": {
          "base_uri": "https://localhost:8080/",
          "height": 535
        },
        "outputId": "91c2d344-7907-4f26-fff6-12fbac5a92f5"
      },
      "source": [
        "plt.figure(figsize=(20,8))\r\n",
        "plt.xlabel('dates')\r\n",
        "plt.ylabel('exchange rates')\r\n",
        "sns.lineplot(data= new_us_data['exchange_rate'])"
      ],
      "execution_count": null,
      "outputs": [
        {
          "output_type": "execute_result",
          "data": {
            "text/plain": [
              "<matplotlib.axes._subplots.AxesSubplot at 0x7fe4ed25f5f8>"
            ]
          },
          "metadata": {
            "tags": []
          },
          "execution_count": 178
        },
        {
          "output_type": "display_data",
          "data": {
            "image/png": "[encoded data removed]",
            "text/plain": [
              "<Figure size 1440x576 with 1 Axes>"
            ]
          },
          "metadata": {
            "tags": [],
            "needs_background": "light"
          }
        }
      ]
    },
    {
      "cell_type": "code",
      "metadata": {
        "id": "nbbCqibh4l4d",
        "colab": {
          "base_uri": "https://localhost:8080/",
          "height": 233
        },
        "outputId": "58348dc5-5edd-4d9b-81c2-97fd26ca76ee"
      },
      "source": [
        "us_data_drop = new_us_data.drop(columns= ['currency','description'])\r\n",
        "us_data_drop.head()"
      ],
      "execution_count": null,
      "outputs": [
        {
          "output_type": "execute_result",
          "data": {
            "text/html": [
              "<div>\n",
              "<style scoped>\n",
              "    .dataframe tbody tr th:only-of-type {\n",
              "        vertical-align: middle;\n",
              "    }\n",
              "\n",
              "    .dataframe tbody tr th {\n",
              "        vertical-align: top;\n",
              "    }\n",
              "\n",
              "    .dataframe thead th {\n",
              "        text-align: right;\n",
              "    }\n",
              "</style>\n",
              "<table border=\"1\" class=\"dataframe\">\n",
              "  <thead>\n",
              "    <tr style=\"text-align: right;\">\n",
              "      <th></th>\n",
              "      <th>exchange_rate</th>\n",
              "      <th>date</th>\n",
              "    </tr>\n",
              "    <tr>\n",
              "      <th>month</th>\n",
              "      <th></th>\n",
              "      <th></th>\n",
              "    </tr>\n",
              "  </thead>\n",
              "  <tbody>\n",
              "    <tr>\n",
              "      <th>1988-01-01</th>\n",
              "      <td>2.0253</td>\n",
              "      <td>1988.083333</td>\n",
              "    </tr>\n",
              "    <tr>\n",
              "      <th>1988-02-01</th>\n",
              "      <td>2.0173</td>\n",
              "      <td>1988.166667</td>\n",
              "    </tr>\n",
              "    <tr>\n",
              "      <th>1988-03-01</th>\n",
              "      <td>2.0133</td>\n",
              "      <td>1988.250000</td>\n",
              "    </tr>\n",
              "    <tr>\n",
              "      <th>1988-04-01</th>\n",
              "      <td>2.0037</td>\n",
              "      <td>1988.333333</td>\n",
              "    </tr>\n",
              "    <tr>\n",
              "      <th>1988-05-01</th>\n",
              "      <td>2.0098</td>\n",
              "      <td>1988.416667</td>\n",
              "    </tr>\n",
              "  </tbody>\n",
              "</table>\n",
              "</div>"
            ],
            "text/plain": [
              "            exchange_rate         date\n",
              "month                                 \n",
              "1988-01-01         2.0253  1988.083333\n",
              "1988-02-01         2.0173  1988.166667\n",
              "1988-03-01         2.0133  1988.250000\n",
              "1988-04-01         2.0037  1988.333333\n",
              "1988-05-01         2.0098  1988.416667"
            ]
          },
          "metadata": {
            "tags": []
          },
          "execution_count": 155
        }
      ]
    },
    {
      "cell_type": "code",
      "metadata": {
        "id": "yfnOLYaTLc8i"
      },
      "source": [
        "yy = us_data_drop.values[:,0]\r\n",
        "XX = us_data_drop.values[:,1]\r\n",
        "m = len(y)"
      ],
      "execution_count": null,
      "outputs": []
    },
    {
      "cell_type": "code",
      "metadata": {
        "id": "RM1WyyDCOzhw",
        "colab": {
          "base_uri": "https://localhost:8080/"
        },
        "outputId": "c7ddc195-ac07-40d9-eeb3-f0c0eb63d1c8"
      },
      "source": [
        "XX_train, XX_test, yy_train, y_test = train_test_split( XX, yy, test_size=0.33, random_state=42)\r\n",
        "print(XX_train.shape)\r\n",
        "print(X_test.shape)\r\n",
        "print(yy_train.shape)\r\n",
        "print(y_test.shape)"
      ],
      "execution_count": null,
      "outputs": [
        {
          "output_type": "stream",
          "text": [
            "(262,)\n",
            "(130,)\n",
            "(262,)\n",
            "(130,)\n"
          ],
          "name": "stdout"
        }
      ]
    },
    {
      "cell_type": "code",
      "metadata": {
        "id": "uOg6OUaFuF0d"
      },
      "source": [
        "X_train = []\r\n",
        "for i in range(len(XX_train)): \r\n",
        "  X_train.append([XX_train[i]])\r\n",
        "\r\n",
        "X_test = []\r\n",
        "for i in range(len(XX_test)): \r\n",
        "  X_test.append([XX_test[i]])\r\n",
        "\r\n",
        "y_train = []\r\n",
        "for i in range(len(yy_train)):\r\n",
        "  y_train.append([yy_train[i]])\r\n",
        "\r\n"
      ],
      "execution_count": null,
      "outputs": []
    },
    {
      "cell_type": "code",
      "metadata": {
        "colab": {
          "base_uri": "https://localhost:8080/"
        },
        "id": "17HyQZqxjZ46",
        "outputId": "f60d2187-fa24-43eb-bac4-4f6ac8de1dc1"
      },
      "source": [
        "poly_reg = PolynomialFeatures(degree=2)\r\n",
        "X_train_poly = poly_reg.fit_transform(X_train)\r\n",
        "pol_reg = LinearRegression()\r\n",
        "pol_reg.fit(X_train_poly, y_train)\r\n"
      ],
      "execution_count": null,
      "outputs": [
        {
          "output_type": "execute_result",
          "data": {
            "text/plain": [
              "LinearRegression(copy_X=True, fit_intercept=True, n_jobs=None, normalize=False)"
            ]
          },
          "metadata": {
            "tags": []
          },
          "execution_count": 215
        }
      ]
    },
    {
      "cell_type": "code",
      "metadata": {
        "colab": {
          "base_uri": "https://localhost:8080/"
        },
        "id": "59J67Z4su2G-",
        "outputId": "a79ecbe2-8729-4944-f6c1-37c3c4c2b773"
      },
      "source": [
        "y_train_predicted = pol_reg.predict(X_train_poly)\r\n",
        "y_test_predict = pol_reg.predict(poly_reg.fit_transform(X_test)) \r\n",
        "\r\n",
        "rmse_train = np.sqrt(mean_squared_error(y_train , y_train_predicted))\r\n",
        "r2_train = r2_score(y_train , y_train_predicted) \r\n",
        "\r\n",
        "rmse_test = np.sqrt(mean_squared_error(y_test , y_test_predict))\r\n",
        "r2_test = r2_score(y_test , y_test_predict) \r\n",
        "\r\n",
        "print(rmse_train)\r\n",
        "print(r2_train)\r\n",
        "\r\n",
        "print(rmse_test)\r\n",
        "print(r2_test)\r\n"
      ],
      "execution_count": null,
      "outputs": [
        {
          "output_type": "stream",
          "text": [
            "0.13848517649132838\n",
            "0.5399093527443914\n",
            "0.1430130020274966\n",
            "0.5465559505531034\n"
          ],
          "name": "stdout"
        }
      ]
    },
    {
      "cell_type": "code",
      "metadata": {
        "colab": {
          "base_uri": "https://localhost:8080/"
        },
        "id": "pJBgkNPlzY58",
        "outputId": "63f5f60d-ea13-490f-cc96-073e4ab5a270"
      },
      "source": [
        "test = [[2021.1]]\r\n",
        "pol_reg.predict(poly_reg.fit_transform(test))"
      ],
      "execution_count": null,
      "outputs": [
        {
          "output_type": "execute_result",
          "data": {
            "text/plain": [
              "array([[1.27064173]])"
            ]
          },
          "metadata": {
            "tags": []
          },
          "execution_count": 225
        }
      ]
    },
    {
      "cell_type": "code",
      "metadata": {
        "colab": {
          "base_uri": "https://localhost:8080/",
          "height": 388
        },
        "id": "gysrrMggjl1H",
        "outputId": "cadc983c-65dc-46ca-87c5-262bcc7cca1c"
      },
      "source": [
        "    plt.scatter(X, y, color='red')\r\n",
        "    plt.plot(X, pol_reg.predict(poly_reg.fit_transform(X)), color='blue')\r\n",
        "    plt.xlabel('Period Time')\r\n",
        "    plt.ylabel('Currency')\r\n",
        "    plt.show()"
      ],
      "execution_count": null,
      "outputs": [
        {
          "output_type": "display_data",
          "data": {
            "image/png": "[encoded data removed]",
            "text/plain": [
              "<Figure size 720x432 with 1 Axes>"
            ]
          },
          "metadata": {
            "tags": [],
            "needs_background": "light"
          }
        }
      ]
    },
    {
      "cell_type": "code",
      "metadata": {
        "colab": {
          "base_uri": "https://localhost:8080/",
          "height": 417
        },
        "id": "hzk33CX6Fvx8",
        "outputId": "f88e037f-7186-463d-95cc-668eeaf15580"
      },
      "source": [
        "map_x = []\r\n",
        "test=[]\r\n",
        "for i in range(1,13):\r\n",
        "  test.append([2021+i/12])\r\n",
        "map_x=pol_reg.predict(poly_reg.fit_transform(test))\r\n",
        "flat_x= map_x.flatten()\r\n",
        "dict_x={'exchange rate 2021':flat_x}\r\n",
        "index_column=['January','February','March','April','May','June','July','August','September','October','November','Desember']\r\n",
        "predict_data= pd.DataFrame(dict_x,index=index_column)\r\n",
        "predict_data"
      ],
      "execution_count": null,
      "outputs": [
        {
          "output_type": "execute_result",
          "data": {
            "text/html": [
              "<div>\n",
              "<style scoped>\n",
              "    .dataframe tbody tr th:only-of-type {\n",
              "        vertical-align: middle;\n",
              "    }\n",
              "\n",
              "    .dataframe tbody tr th {\n",
              "        vertical-align: top;\n",
              "    }\n",
              "\n",
              "    .dataframe thead th {\n",
              "        text-align: right;\n",
              "    }\n",
              "</style>\n",
              "<table border=\"1\" class=\"dataframe\">\n",
              "  <thead>\n",
              "    <tr style=\"text-align: right;\">\n",
              "      <th></th>\n",
              "      <th>exchange rate 2021</th>\n",
              "    </tr>\n",
              "  </thead>\n",
              "  <tbody>\n",
              "    <tr>\n",
              "      <th>January</th>\n",
              "      <td>1.270911</td>\n",
              "    </tr>\n",
              "    <tr>\n",
              "      <th>February</th>\n",
              "      <td>1.269563</td>\n",
              "    </tr>\n",
              "    <tr>\n",
              "      <th>March</th>\n",
              "      <td>1.268216</td>\n",
              "    </tr>\n",
              "    <tr>\n",
              "      <th>April</th>\n",
              "      <td>1.266869</td>\n",
              "    </tr>\n",
              "    <tr>\n",
              "      <th>May</th>\n",
              "      <td>1.265523</td>\n",
              "    </tr>\n",
              "    <tr>\n",
              "      <th>June</th>\n",
              "      <td>1.264178</td>\n",
              "    </tr>\n",
              "    <tr>\n",
              "      <th>July</th>\n",
              "      <td>1.262833</td>\n",
              "    </tr>\n",
              "    <tr>\n",
              "      <th>August</th>\n",
              "      <td>1.261489</td>\n",
              "    </tr>\n",
              "    <tr>\n",
              "      <th>September</th>\n",
              "      <td>1.260146</td>\n",
              "    </tr>\n",
              "    <tr>\n",
              "      <th>October</th>\n",
              "      <td>1.258803</td>\n",
              "    </tr>\n",
              "    <tr>\n",
              "      <th>November</th>\n",
              "      <td>1.257461</td>\n",
              "    </tr>\n",
              "    <tr>\n",
              "      <th>Desember</th>\n",
              "      <td>1.256119</td>\n",
              "    </tr>\n",
              "  </tbody>\n",
              "</table>\n",
              "</div>"
            ],
            "text/plain": [
              "           exchange rate 2021\n",
              "January              1.270911\n",
              "February             1.269563\n",
              "March                1.268216\n",
              "April                1.266869\n",
              "May                  1.265523\n",
              "June                 1.264178\n",
              "July                 1.262833\n",
              "August               1.261489\n",
              "September            1.260146\n",
              "October              1.258803\n",
              "November             1.257461\n",
              "Desember             1.256119"
            ]
          },
          "metadata": {
            "tags": []
          },
          "execution_count": 248
        }
      ]
    },
    {
      "cell_type": "code",
      "metadata": {
        "id": "Z6mPSdotKSn7"
      },
      "source": [
        ""
      ],
      "execution_count": null,
      "outputs": []
    }
  ]
}